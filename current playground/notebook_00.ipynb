{
 "cells": [
  {
   "attachments": {},
   "cell_type": "markdown",
   "metadata": {},
   "source": [
    "#### ML 101 $DS"
   ]
  },
  {
   "attachments": {},
   "cell_type": "markdown",
   "metadata": {},
   "source": [
    "### What Is Machine Learning?"
   ]
  },
  {
   "cell_type": "code",
   "execution_count": 4,
   "metadata": {},
   "outputs": [],
   "source": [
    "# Machines, specifically personal computers, are good at processing large amounts of data and performing repetitive tasks accurately and quickly.\n",
    "# They can perform mathematical calculations, store and retrieve vast amounts of information, and process complex algorithms.\n",
    "\n",
    "# But the idea is this the goal of machine learning is to make machines act more and more like humans\n",
    "# because the smarter they get, the more they help us humans accomplish our goals."
   ]
  },
  {
   "cell_type": "code",
   "execution_count": 15,
   "metadata": {},
   "outputs": [],
   "source": [
    "# AI --> Machine Learning --> Deep Learning\n",
    "\n",
    "# Data Science and Machine Learning\n",
    "\n",
    "# both of them relate and overlap and you can't do one without the other \n",
    "# because you need to be able to understand data and work with data to do any of these things."
   ]
  },
  {
   "cell_type": "code",
   "execution_count": 2,
   "metadata": {},
   "outputs": [],
   "source": [
    "# That's why when we talk about careers, often things like machine learning, data scientist, data analyst.\n",
    "# they're all similar because they all work with data And from that data\n",
    "# they want to derive some sort of action for their business, for the company or for their users."
   ]
  },
  {
   "cell_type": "code",
   "execution_count": 3,
   "metadata": {},
   "outputs": [],
   "source": [
    "# Exercise: Machine Learning Playground https://teachablemachine.withgoogle.com/"
   ]
  },
  {
   "cell_type": "code",
   "execution_count": null,
   "metadata": {},
   "outputs": [],
   "source": [
    "# Exercise: Machine Learning Playground https://ml-playground.com/"
   ]
  },
  {
   "cell_type": "code",
   "execution_count": null,
   "metadata": {},
   "outputs": [],
   "source": [
    "# keep in mind what I said, that is machine learning is simply about predicting results based on\n",
    "# incoming data and all these subcategories simply do that."
   ]
  },
  {
   "cell_type": "code",
   "execution_count": null,
   "metadata": {},
   "outputs": [],
   "source": [
    "# In this supervised learning.\n",
    "# The data that we received already has categories.\n",
    "\n",
    "# there are no true categories.\n",
    "# But we let the machines just create these categories for us.\n",
    "# We call it unsupervised learning.\n",
    "\n",
    "# Finally, we have this idea of reinforcement learning, and reinforcement learning is really interesting\n",
    "# because it's all about teaching machines through trial and error, through rewards and punishment."
   ]
  },
  {
   "cell_type": "code",
   "execution_count": 1,
   "metadata": {},
   "outputs": [],
   "source": [
    "# How machine learning algorithms differ from normal algorithms in computer programs is the learning aspect."
   ]
  },
  {
   "cell_type": "code",
   "execution_count": 2,
   "metadata": {},
   "outputs": [],
   "source": [
    "# Section Review ( What is Machine Learning ? )\n",
    "\n",
    "# Machine learning refers to a set of algorithms that can automatically learn patterns and relationships in data, without being explicitly programmed to do so. \n",
    "# Machine learning algorithms are trained on a dataset of input/output pairs, and the goal is to learn a general mapping between the inputs and the outputs that can be used to make predictions on new, unseen data."
   ]
  },
  {
   "attachments": {},
   "cell_type": "markdown",
   "metadata": {},
   "source": [
    "### Section Review ( What is Machine Learning ? )\n",
    "ML refers to a set of algorithms that can automatically learn patterns and relationships in data, without being explicitly programmed to do so. trained on a dataset of input/output pairs, and the goal is to learn a general mapping between inputs/outputs that can be used to make predictions on new, unseen data."
   ]
  },
  {
   "cell_type": "code",
   "execution_count": 2,
   "metadata": {},
   "outputs": [],
   "source": [
    "# Step in a full machine learning project\n"
   ]
  },
  {
   "attachments": {},
   "cell_type": "markdown",
   "metadata": {},
   "source": [
    "### Framework"
   ]
  },
  {
   "cell_type": "code",
   "execution_count": null,
   "metadata": {},
   "outputs": [],
   "source": [
    "# 1. Problem definition\n",
    "## What business problem are we trying to solve?\n",
    "## How can it be phrased as a machine learning problem?"
   ]
  },
  {
   "cell_type": "code",
   "execution_count": 10,
   "metadata": {},
   "outputs": [],
   "source": [
    "# 2. Data\n",
    "## If machine learning is getting insights out of data, what data we have?\n",
    "## How does it match the problem definition? \n",
    "## Is our data structured or unstructured? Static or streaming?"
   ]
  },
  {
   "cell_type": "code",
   "execution_count": 5,
   "metadata": {},
   "outputs": [],
   "source": [
    "# 3. Evaluation\n",
    "## What defines success? Is a 95% accurate machine learning model good enough?"
   ]
  },
  {
   "cell_type": "code",
   "execution_count": 11,
   "metadata": {},
   "outputs": [],
   "source": [
    "# 4. Features\n",
    "## What parts of our data are we going to use for our model? How can what we already know influence this?"
   ]
  },
  {
   "cell_type": "code",
   "execution_count": 13,
   "metadata": {},
   "outputs": [],
   "source": [
    "# 5. Modelling \n",
    "## Which model should you choose? How can you improve it? How do you compare it with other models?"
   ]
  },
  {
   "cell_type": "code",
   "execution_count": 8,
   "metadata": {},
   "outputs": [],
   "source": [
    "# 6. Experimentation\n",
    "## What else could we try? Does our deployed model do as we expected? \n",
    "## How do the other steps change based on what we've found?"
   ]
  }
 ],
 "metadata": {
  "kernelspec": {
   "display_name": "base",
   "language": "python",
   "name": "python3"
  },
  "language_info": {
   "codemirror_mode": {
    "name": "ipython",
    "version": 3
   },
   "file_extension": ".py",
   "mimetype": "text/x-python",
   "name": "python",
   "nbconvert_exporter": "python",
   "pygments_lexer": "ipython3",
   "version": "3.10.9"
  },
  "orig_nbformat": 4
 },
 "nbformat": 4,
 "nbformat_minor": 2
}
