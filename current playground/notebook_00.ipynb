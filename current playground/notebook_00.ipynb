{
 "cells": [
  {
   "attachments": {},
   "cell_type": "markdown",
   "metadata": {},
   "source": [
    "#### ML 101 $DS"
   ]
  },
  {
   "attachments": {},
   "cell_type": "markdown",
   "metadata": {},
   "source": [
    "### What Is Machine Learning?"
   ]
  },
  {
   "cell_type": "code",
   "execution_count": 4,
   "metadata": {},
   "outputs": [],
   "source": [
    "# Machines, specifically personal computers, are good at processing large amounts of data and performing repetitive tasks accurately and quickly.\n",
    "# They can perform mathematical calculations, store and retrieve vast amounts of information, and process complex algorithms.\n",
    "\n",
    "# But the idea is this the goal of machine learning is to make machines act more and more like humans\n",
    "# because the smarter they get, the more they help us humans accomplish our goals."
   ]
  },
  {
   "cell_type": "code",
   "execution_count": 15,
   "metadata": {},
   "outputs": [],
   "source": [
    "# AI --> Machine Learning --> Deep Learning\n",
    "\n",
    "# Data Science and Machine Learning\n",
    "\n",
    "# both of them relate and overlap and you can't do one without the other \n",
    "# because you need to be able to understand data and work with data to do any of these things."
   ]
  },
  {
   "cell_type": "code",
   "execution_count": 17,
   "metadata": {},
   "outputs": [],
   "source": [
    "# That's why when we talk about careers, often things like machine learning, data scientist, data analyst.\n",
    "# they're all similar because they all work with data And from that data\n",
    "# they want to derive some sort of action for their business, for the company or for their users."
   ]
  },
  {
   "cell_type": "code",
   "execution_count": null,
   "metadata": {},
   "outputs": [],
   "source": []
  }
 ],
 "metadata": {
  "kernelspec": {
   "display_name": "base",
   "language": "python",
   "name": "python3"
  },
  "language_info": {
   "codemirror_mode": {
    "name": "ipython",
    "version": 3
   },
   "file_extension": ".py",
   "mimetype": "text/x-python",
   "name": "python",
   "nbconvert_exporter": "python",
   "pygments_lexer": "ipython3",
   "version": "3.10.9"
  },
  "orig_nbformat": 4
 },
 "nbformat": 4,
 "nbformat_minor": 2
}
